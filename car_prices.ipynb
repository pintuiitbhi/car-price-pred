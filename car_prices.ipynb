{
 "cells": [
  {
   "cell_type": "markdown",
   "metadata": {},
   "source": [
    "(Click on the below links to navigate to different sections of the notebook)\n",
    "# **Overview**  \n",
    "- <a href=\"#1\"> 1. Importing Data</a>\n",
    "- <a href=\"#2\"> 2. Preprocessing the Dataset</a>\n",
    "- <a href=\"#3\"> 3. Explanatory Data Analysis </a>\n",
    "- <a href=\"#4\"> 4. Divide the data into training, cross-validation and testing data </a>\n",
    "- <a href=\"#5\"> 5. Model</a>"
   ]
  },
  {
   "cell_type": "code",
   "execution_count": 50,
   "metadata": {},
   "outputs": [],
   "source": [
    "import numpy as np # linear algebra\n",
    "import pandas as pd # data processing\n",
    "from sklearn.model_selection import train_test_split # for splitting the dataset in train,test and validation\n",
    "from sklearn.linear_model import LinearRegression # for linear regression\n",
    "import seaborn as sns\n",
    "\n",
    "from sklearn.metrics import mean_squared_error # for calcualting mse\n",
    "\n",
    "import matplotlib.pyplot as plt #for plotting\n",
    "\n",
    "\n",
    "# Suppress warnings \n",
    "import warnings\n",
    "warnings.filterwarnings('ignore')"
   ]
  },
  {
   "cell_type": "markdown",
   "metadata": {},
   "source": [
    "## <a id=\"1\"> 1. Importing Data </a>"
   ]
  },
  {
   "cell_type": "code",
   "execution_count": 51,
   "metadata": {},
   "outputs": [
    {
     "name": "stdout",
     "output_type": "stream",
     "text": [
      "There are 24973 rows and 9 columns\n"
     ]
    }
   ],
   "source": [
    "df1 = pd.read_csv('OLX_Car_Data_CSV.csv',encoding= 'latin1')\n",
    "df2 = df1.sample(frac=1).reset_index(drop=True)# shuffle\n",
    "nRow, nCol = df1.shape\n",
    "print(f'There are {nRow} rows and {nCol} columns')"
   ]
  },
  {
   "cell_type": "code",
   "execution_count": 52,
   "metadata": {},
   "outputs": [
    {
     "data": {
      "text/html": [
       "<div>\n",
       "<style scoped>\n",
       "    .dataframe tbody tr th:only-of-type {\n",
       "        vertical-align: middle;\n",
       "    }\n",
       "\n",
       "    .dataframe tbody tr th {\n",
       "        vertical-align: top;\n",
       "    }\n",
       "\n",
       "    .dataframe thead th {\n",
       "        text-align: right;\n",
       "    }\n",
       "</style>\n",
       "<table border=\"1\" class=\"dataframe\">\n",
       "  <thead>\n",
       "    <tr style=\"text-align: right;\">\n",
       "      <th></th>\n",
       "      <th>Brand</th>\n",
       "      <th>Condition</th>\n",
       "      <th>Fuel</th>\n",
       "      <th>KMs Driven</th>\n",
       "      <th>Model</th>\n",
       "      <th>Price</th>\n",
       "      <th>Registered City</th>\n",
       "      <th>Transaction Type</th>\n",
       "      <th>Year</th>\n",
       "    </tr>\n",
       "  </thead>\n",
       "  <tbody>\n",
       "    <tr>\n",
       "      <th>0</th>\n",
       "      <td>NaN</td>\n",
       "      <td>NaN</td>\n",
       "      <td>NaN</td>\n",
       "      <td>NaN</td>\n",
       "      <td>NaN</td>\n",
       "      <td>560000</td>\n",
       "      <td>NaN</td>\n",
       "      <td>NaN</td>\n",
       "      <td>NaN</td>\n",
       "    </tr>\n",
       "    <tr>\n",
       "      <th>1</th>\n",
       "      <td>Toyota</td>\n",
       "      <td>Used</td>\n",
       "      <td>Petrol</td>\n",
       "      <td>77000.0</td>\n",
       "      <td>Passo</td>\n",
       "      <td>900000</td>\n",
       "      <td>Lahore</td>\n",
       "      <td>Cash</td>\n",
       "      <td>2011.0</td>\n",
       "    </tr>\n",
       "    <tr>\n",
       "      <th>2</th>\n",
       "      <td>NaN</td>\n",
       "      <td>NaN</td>\n",
       "      <td>NaN</td>\n",
       "      <td>NaN</td>\n",
       "      <td>NaN</td>\n",
       "      <td>440000</td>\n",
       "      <td>NaN</td>\n",
       "      <td>NaN</td>\n",
       "      <td>NaN</td>\n",
       "    </tr>\n",
       "    <tr>\n",
       "      <th>3</th>\n",
       "      <td>Suzuki</td>\n",
       "      <td>Used</td>\n",
       "      <td>CNG</td>\n",
       "      <td>194080.0</td>\n",
       "      <td>Bolan</td>\n",
       "      <td>290000</td>\n",
       "      <td>Karachi</td>\n",
       "      <td>Cash</td>\n",
       "      <td>1991.0</td>\n",
       "    </tr>\n",
       "    <tr>\n",
       "      <th>4</th>\n",
       "      <td>Suzuki</td>\n",
       "      <td>Used</td>\n",
       "      <td>CNG</td>\n",
       "      <td>120000.0</td>\n",
       "      <td>Alto</td>\n",
       "      <td>480000</td>\n",
       "      <td>NaN</td>\n",
       "      <td>Cash</td>\n",
       "      <td>2006.0</td>\n",
       "    </tr>\n",
       "  </tbody>\n",
       "</table>\n",
       "</div>"
      ],
      "text/plain": [
       "    Brand Condition    Fuel  KMs Driven  Model   Price Registered City  \\\n",
       "0     NaN       NaN     NaN         NaN    NaN  560000             NaN   \n",
       "1  Toyota      Used  Petrol     77000.0  Passo  900000          Lahore   \n",
       "2     NaN       NaN     NaN         NaN    NaN  440000             NaN   \n",
       "3  Suzuki      Used     CNG    194080.0  Bolan  290000         Karachi   \n",
       "4  Suzuki      Used     CNG    120000.0   Alto  480000             NaN   \n",
       "\n",
       "  Transaction Type    Year  \n",
       "0              NaN     NaN  \n",
       "1             Cash  2011.0  \n",
       "2              NaN     NaN  \n",
       "3             Cash  1991.0  \n",
       "4             Cash  2006.0  "
      ]
     },
     "metadata": {},
     "output_type": "display_data"
    },
    {
     "data": {
      "text/plain": [
       "Index(['Brand', 'Condition', 'Fuel', 'KMs Driven', 'Model', 'Price',\n",
       "       'Registered City', 'Transaction Type', 'Year'],\n",
       "      dtype='object')"
      ]
     },
     "execution_count": 52,
     "metadata": {},
     "output_type": "execute_result"
    }
   ],
   "source": [
    "display(df2.head(5))\n",
    "df2.columns"
   ]
  },
  {
   "cell_type": "markdown",
   "metadata": {},
   "source": [
    "## <a id=\"2\" > 2. Preprocessing the Dataset</a>"
   ]
  },
  {
   "cell_type": "markdown",
   "metadata": {},
   "source": [
    "### <a id=\"2-1\" > 2.1 Check for NULLS</a>"
   ]
  },
  {
   "cell_type": "code",
   "execution_count": 53,
   "metadata": {},
   "outputs": [
    {
     "data": {
      "text/plain": [
       "Brand               2137\n",
       "Condition           2136\n",
       "Fuel                2445\n",
       "KMs Driven          2286\n",
       "Model               2448\n",
       "Price                  0\n",
       "Registered City     4636\n",
       "Transaction Type    2445\n",
       "Year                2284\n",
       "dtype: int64"
      ]
     },
     "execution_count": 53,
     "metadata": {},
     "output_type": "execute_result"
    }
   ],
   "source": [
    "df2.isnull().sum(axis = 0)"
   ]
  },
  {
   "cell_type": "markdown",
   "metadata": {},
   "source": [
    "Replacing \"NaN\" with \"unknown\" to treat it as a categorical values in their respective columns"
   ]
  },
  {
   "cell_type": "code",
   "execution_count": 54,
   "metadata": {},
   "outputs": [],
   "source": [
    "df2['Brand'].fillna(value='unknown', inplace=True)\n",
    "df2['Condition'].fillna(value='unknown', inplace=True)\n",
    "df2['Fuel'].fillna(value='unknown', inplace=True)\n",
    "df2['Model'].fillna(value='unknown', inplace=True)\n",
    "df2['Registered City'].fillna(value='unknown', inplace=True)\n",
    "df2['Transaction Type'].fillna(value='unknown', inplace=True)"
   ]
  },
  {
   "cell_type": "code",
   "execution_count": 55,
   "metadata": {},
   "outputs": [
    {
     "data": {
      "text/plain": [
       "Brand               0\n",
       "Condition           0\n",
       "Fuel                0\n",
       "KMs Driven          0\n",
       "Model               0\n",
       "Price               0\n",
       "Registered City     0\n",
       "Transaction Type    0\n",
       "Year                0\n",
       "dtype: int64"
      ]
     },
     "execution_count": 55,
     "metadata": {},
     "output_type": "execute_result"
    }
   ],
   "source": [
    "df2=df2.dropna() #drop rows with atleast a column with missing values\n",
    "df2.isnull().sum(axis = 0)"
   ]
  },
  {
   "cell_type": "code",
   "execution_count": 56,
   "metadata": {},
   "outputs": [
    {
     "data": {
      "text/plain": [
       "(22687, 9)"
      ]
     },
     "execution_count": 56,
     "metadata": {},
     "output_type": "execute_result"
    }
   ],
   "source": [
    "df2.shape"
   ]
  },
  {
   "cell_type": "markdown",
   "metadata": {},
   "source": [
    "### <a id=\"2-2\" > 2.2 Check the datatype of columns</a>"
   ]
  },
  {
   "cell_type": "code",
   "execution_count": 57,
   "metadata": {},
   "outputs": [
    {
     "data": {
      "text/plain": [
       "Brand                object\n",
       "Condition            object\n",
       "Fuel                 object\n",
       "KMs Driven          float64\n",
       "Model                object\n",
       "Price                 int64\n",
       "Registered City      object\n",
       "Transaction Type     object\n",
       "Year                float64\n",
       "dtype: object"
      ]
     },
     "execution_count": 57,
     "metadata": {},
     "output_type": "execute_result"
    }
   ],
   "source": [
    "df2.dtypes"
   ]
  },
  {
   "cell_type": "code",
   "execution_count": 58,
   "metadata": {},
   "outputs": [
    {
     "data": {
      "text/html": [
       "<div>\n",
       "<style scoped>\n",
       "    .dataframe tbody tr th:only-of-type {\n",
       "        vertical-align: middle;\n",
       "    }\n",
       "\n",
       "    .dataframe tbody tr th {\n",
       "        vertical-align: top;\n",
       "    }\n",
       "\n",
       "    .dataframe thead th {\n",
       "        text-align: right;\n",
       "    }\n",
       "</style>\n",
       "<table border=\"1\" class=\"dataframe\">\n",
       "  <thead>\n",
       "    <tr style=\"text-align: right;\">\n",
       "      <th></th>\n",
       "      <th>KMs Driven</th>\n",
       "      <th>Price</th>\n",
       "      <th>Year</th>\n",
       "    </tr>\n",
       "  </thead>\n",
       "  <tbody>\n",
       "    <tr>\n",
       "      <th>count</th>\n",
       "      <td>2.268700e+04</td>\n",
       "      <td>2.268700e+04</td>\n",
       "      <td>22687.000000</td>\n",
       "    </tr>\n",
       "    <tr>\n",
       "      <th>mean</th>\n",
       "      <td>1.278112e+05</td>\n",
       "      <td>9.212520e+05</td>\n",
       "      <td>2005.901441</td>\n",
       "    </tr>\n",
       "    <tr>\n",
       "      <th>std</th>\n",
       "      <td>5.996726e+05</td>\n",
       "      <td>1.594013e+06</td>\n",
       "      <td>9.564187</td>\n",
       "    </tr>\n",
       "    <tr>\n",
       "      <th>min</th>\n",
       "      <td>1.000000e+00</td>\n",
       "      <td>5.000000e+04</td>\n",
       "      <td>1915.000000</td>\n",
       "    </tr>\n",
       "    <tr>\n",
       "      <th>25%</th>\n",
       "      <td>1.600000e+04</td>\n",
       "      <td>3.800000e+05</td>\n",
       "      <td>2002.000000</td>\n",
       "    </tr>\n",
       "    <tr>\n",
       "      <th>50%</th>\n",
       "      <td>6.651000e+04</td>\n",
       "      <td>6.550000e+05</td>\n",
       "      <td>2008.000000</td>\n",
       "    </tr>\n",
       "    <tr>\n",
       "      <th>75%</th>\n",
       "      <td>1.000000e+05</td>\n",
       "      <td>1.150000e+06</td>\n",
       "      <td>2013.000000</td>\n",
       "    </tr>\n",
       "    <tr>\n",
       "      <th>max</th>\n",
       "      <td>1.000000e+07</td>\n",
       "      <td>8.765432e+07</td>\n",
       "      <td>2020.000000</td>\n",
       "    </tr>\n",
       "  </tbody>\n",
       "</table>\n",
       "</div>"
      ],
      "text/plain": [
       "         KMs Driven         Price          Year\n",
       "count  2.268700e+04  2.268700e+04  22687.000000\n",
       "mean   1.278112e+05  9.212520e+05   2005.901441\n",
       "std    5.996726e+05  1.594013e+06      9.564187\n",
       "min    1.000000e+00  5.000000e+04   1915.000000\n",
       "25%    1.600000e+04  3.800000e+05   2002.000000\n",
       "50%    6.651000e+04  6.550000e+05   2008.000000\n",
       "75%    1.000000e+05  1.150000e+06   2013.000000\n",
       "max    1.000000e+07  8.765432e+07   2020.000000"
      ]
     },
     "execution_count": 58,
     "metadata": {},
     "output_type": "execute_result"
    }
   ],
   "source": [
    "df2.describe()"
   ]
  },
  {
   "cell_type": "code",
   "execution_count": null,
   "metadata": {},
   "outputs": [],
   "source": []
  },
  {
   "cell_type": "code",
   "execution_count": null,
   "metadata": {},
   "outputs": [],
   "source": []
  },
  {
   "cell_type": "code",
   "execution_count": null,
   "metadata": {},
   "outputs": [],
   "source": []
  },
  {
   "cell_type": "markdown",
   "metadata": {},
   "source": [
    "### <a id=\"2-3\" > 2.3 Remove Outliers</a>"
   ]
  },
  {
   "cell_type": "markdown",
   "metadata": {},
   "source": [
    "#### Distribution of \"Price\""
   ]
  },
  {
   "cell_type": "code",
   "execution_count": 59,
   "metadata": {},
   "outputs": [
    {
     "data": {
      "text/plain": [
       "<matplotlib.axes._subplots.AxesSubplot at 0x7f400674f3c8>"
      ]
     },
     "execution_count": 59,
     "metadata": {},
     "output_type": "execute_result"
    },
    {
     "data": {
      "image/png": "[encoded data removed]",
      "text/plain": [
       "<Figure size 432x288 with 1 Axes>"
      ]
     },
     "metadata": {
      "needs_background": "light"
     },
     "output_type": "display_data"
    }
   ],
   "source": [
    "sns.distplot(df2[\"Price\"])"
   ]
  },
  {
   "cell_type": "markdown",
   "metadata": {},
   "source": [
    "Determine outliers in dataset"
   ]
  },
  {
   "cell_type": "code",
   "execution_count": 60,
   "metadata": {},
   "outputs": [
    {
     "name": "stdout",
     "output_type": "stream",
     "text": [
      "Price -775000.0 2305000.0 95000.0 4537099.999999992\n"
     ]
    }
   ],
   "source": [
    "cols=['Price']\n",
    "\n",
    "\n",
    "for i in cols:\n",
    "    quartile_1,quartile_3 = np.percentile(df2[i],[25,75])\n",
    "    quartile_f,quartile_l = np.percentile(df2[i],[1,99])\n",
    "    IQR = quartile_3-quartile_1\n",
    "    lower_bound = quartile_1 - (1.5*IQR)\n",
    "    upper_bound = quartile_3 + (1.5*IQR)\n",
    "    print(i,lower_bound,upper_bound,quartile_f,quartile_l)\n",
    "\n",
    "    df3[i].loc[df3[i] < lower_bound] = quartile_f\n",
    "    df3[i].loc[df3[i] > upper_bound] = quartile_l\n"
   ]
  },
  {
   "cell_type": "code",
   "execution_count": 61,
   "metadata": {},
   "outputs": [],
   "source": [
    "def remove_outlier(df_in, col_name):\n",
    "    q1 = df_in[col_name].quantile(0.25)\n",
    "    q3 = df_in[col_name].quantile(0.75)\n",
    "    iqr = q3-q1 #Interquartile range\n",
    "    fence_low  = q1-1.5*iqr\n",
    "    fence_high = q3+1.5*iqr\n",
    "    df_out = df_in.loc[(df_in[col_name] > fence_low) & (df_in[col_name] < fence_high)]\n",
    "    return df_out\n",
    "\n",
    "df2=remove_outlier(df2, 'Price')\n"
   ]
  },
  {
   "cell_type": "markdown",
   "metadata": {},
   "source": [
    "#### After removing outlier in 'Price'"
   ]
  },
  {
   "cell_type": "code",
   "execution_count": 62,
   "metadata": {},
   "outputs": [
    {
     "data": {
      "text/plain": [
       "<matplotlib.axes._subplots.AxesSubplot at 0x7f400675b860>"
      ]
     },
     "execution_count": 62,
     "metadata": {},
     "output_type": "execute_result"
    },
    {
     "data": {
      "image/png": "[encoded data removed]",
      "text/plain": [
       "<Figure size 432x288 with 1 Axes>"
      ]
     },
     "metadata": {
      "needs_background": "light"
     },
     "output_type": "display_data"
    }
   ],
   "source": [
    "sns.distplot(df2[\"Price\"])"
   ]
  },
  {
   "cell_type": "markdown",
   "metadata": {},
   "source": [
    "### <a id=\"2-4\" > 2.4 Encoding the categorical data (one hot Encoding)</a>"
   ]
  },
  {
   "cell_type": "code",
   "execution_count": 63,
   "metadata": {},
   "outputs": [
    {
     "data": {
      "text/html": [
       "<div>\n",
       "<style scoped>\n",
       "    .dataframe tbody tr th:only-of-type {\n",
       "        vertical-align: middle;\n",
       "    }\n",
       "\n",
       "    .dataframe tbody tr th {\n",
       "        vertical-align: top;\n",
       "    }\n",
       "\n",
       "    .dataframe thead th {\n",
       "        text-align: right;\n",
       "    }\n",
       "</style>\n",
       "<table border=\"1\" class=\"dataframe\">\n",
       "  <thead>\n",
       "    <tr style=\"text-align: right;\">\n",
       "      <th></th>\n",
       "      <th>KMs Driven</th>\n",
       "      <th>Price</th>\n",
       "      <th>Year</th>\n",
       "      <th>Brand_BMW</th>\n",
       "      <th>Brand_Changan</th>\n",
       "      <th>Brand_Chevrolet</th>\n",
       "      <th>Brand_Classic &amp; Antiques</th>\n",
       "      <th>Brand_Daewoo</th>\n",
       "      <th>Brand_Daihatsu</th>\n",
       "      <th>Brand_FAW</th>\n",
       "      <th>...</th>\n",
       "      <th>Registered City_Sialkot</th>\n",
       "      <th>Registered City_Sukkar</th>\n",
       "      <th>Registered City_Sukkur</th>\n",
       "      <th>Registered City_Swabi</th>\n",
       "      <th>Registered City_Tank</th>\n",
       "      <th>Registered City_Vehari</th>\n",
       "      <th>Registered City_Wah</th>\n",
       "      <th>Registered City_unknown</th>\n",
       "      <th>Transaction Type_Installment/Leasing</th>\n",
       "      <th>Transaction Type_unknown</th>\n",
       "    </tr>\n",
       "  </thead>\n",
       "  <tbody>\n",
       "    <tr>\n",
       "      <th>1</th>\n",
       "      <td>77000.0</td>\n",
       "      <td>900000</td>\n",
       "      <td>2011.0</td>\n",
       "      <td>0</td>\n",
       "      <td>0</td>\n",
       "      <td>0</td>\n",
       "      <td>0</td>\n",
       "      <td>0</td>\n",
       "      <td>0</td>\n",
       "      <td>0</td>\n",
       "      <td>...</td>\n",
       "      <td>0</td>\n",
       "      <td>0</td>\n",
       "      <td>0</td>\n",
       "      <td>0</td>\n",
       "      <td>0</td>\n",
       "      <td>0</td>\n",
       "      <td>0</td>\n",
       "      <td>0</td>\n",
       "      <td>0</td>\n",
       "      <td>0</td>\n",
       "    </tr>\n",
       "    <tr>\n",
       "      <th>3</th>\n",
       "      <td>194080.0</td>\n",
       "      <td>290000</td>\n",
       "      <td>1991.0</td>\n",
       "      <td>0</td>\n",
       "      <td>0</td>\n",
       "      <td>0</td>\n",
       "      <td>0</td>\n",
       "      <td>0</td>\n",
       "      <td>0</td>\n",
       "      <td>0</td>\n",
       "      <td>...</td>\n",
       "      <td>0</td>\n",
       "      <td>0</td>\n",
       "      <td>0</td>\n",
       "      <td>0</td>\n",
       "      <td>0</td>\n",
       "      <td>0</td>\n",
       "      <td>0</td>\n",
       "      <td>0</td>\n",
       "      <td>0</td>\n",
       "      <td>0</td>\n",
       "    </tr>\n",
       "    <tr>\n",
       "      <th>4</th>\n",
       "      <td>120000.0</td>\n",
       "      <td>480000</td>\n",
       "      <td>2006.0</td>\n",
       "      <td>0</td>\n",
       "      <td>0</td>\n",
       "      <td>0</td>\n",
       "      <td>0</td>\n",
       "      <td>0</td>\n",
       "      <td>0</td>\n",
       "      <td>0</td>\n",
       "      <td>...</td>\n",
       "      <td>0</td>\n",
       "      <td>0</td>\n",
       "      <td>0</td>\n",
       "      <td>0</td>\n",
       "      <td>0</td>\n",
       "      <td>0</td>\n",
       "      <td>0</td>\n",
       "      <td>1</td>\n",
       "      <td>0</td>\n",
       "      <td>0</td>\n",
       "    </tr>\n",
       "    <tr>\n",
       "      <th>5</th>\n",
       "      <td>67000.0</td>\n",
       "      <td>200000</td>\n",
       "      <td>2015.0</td>\n",
       "      <td>0</td>\n",
       "      <td>0</td>\n",
       "      <td>0</td>\n",
       "      <td>0</td>\n",
       "      <td>0</td>\n",
       "      <td>0</td>\n",
       "      <td>0</td>\n",
       "      <td>...</td>\n",
       "      <td>0</td>\n",
       "      <td>0</td>\n",
       "      <td>0</td>\n",
       "      <td>0</td>\n",
       "      <td>0</td>\n",
       "      <td>0</td>\n",
       "      <td>0</td>\n",
       "      <td>0</td>\n",
       "      <td>1</td>\n",
       "      <td>0</td>\n",
       "    </tr>\n",
       "    <tr>\n",
       "      <th>6</th>\n",
       "      <td>94000.0</td>\n",
       "      <td>876000</td>\n",
       "      <td>2013.0</td>\n",
       "      <td>0</td>\n",
       "      <td>0</td>\n",
       "      <td>0</td>\n",
       "      <td>0</td>\n",
       "      <td>0</td>\n",
       "      <td>0</td>\n",
       "      <td>0</td>\n",
       "      <td>...</td>\n",
       "      <td>0</td>\n",
       "      <td>0</td>\n",
       "      <td>0</td>\n",
       "      <td>0</td>\n",
       "      <td>0</td>\n",
       "      <td>0</td>\n",
       "      <td>0</td>\n",
       "      <td>0</td>\n",
       "      <td>0</td>\n",
       "      <td>0</td>\n",
       "    </tr>\n",
       "  </tbody>\n",
       "</table>\n",
       "<p>5 rows × 381 columns</p>\n",
       "</div>"
      ],
      "text/plain": [
       "   KMs Driven   Price    Year  Brand_BMW  Brand_Changan  Brand_Chevrolet  \\\n",
       "1     77000.0  900000  2011.0          0              0                0   \n",
       "3    194080.0  290000  1991.0          0              0                0   \n",
       "4    120000.0  480000  2006.0          0              0                0   \n",
       "5     67000.0  200000  2015.0          0              0                0   \n",
       "6     94000.0  876000  2013.0          0              0                0   \n",
       "\n",
       "   Brand_Classic & Antiques  Brand_Daewoo  Brand_Daihatsu  Brand_FAW  \\\n",
       "1                         0             0               0          0   \n",
       "3                         0             0               0          0   \n",
       "4                         0             0               0          0   \n",
       "5                         0             0               0          0   \n",
       "6                         0             0               0          0   \n",
       "\n",
       "             ...             Registered City_Sialkot  Registered City_Sukkar  \\\n",
       "1            ...                                   0                       0   \n",
       "3            ...                                   0                       0   \n",
       "4            ...                                   0                       0   \n",
       "5            ...                                   0                       0   \n",
       "6            ...                                   0                       0   \n",
       "\n",
       "   Registered City_Sukkur  Registered City_Swabi  Registered City_Tank  \\\n",
       "1                       0                      0                     0   \n",
       "3                       0                      0                     0   \n",
       "4                       0                      0                     0   \n",
       "5                       0                      0                     0   \n",
       "6                       0                      0                     0   \n",
       "\n",
       "   Registered City_Vehari  Registered City_Wah  Registered City_unknown  \\\n",
       "1                       0                    0                        0   \n",
       "3                       0                    0                        0   \n",
       "4                       0                    0                        1   \n",
       "5                       0                    0                        0   \n",
       "6                       0                    0                        0   \n",
       "\n",
       "   Transaction Type_Installment/Leasing  Transaction Type_unknown  \n",
       "1                                     0                         0  \n",
       "3                                     0                         0  \n",
       "4                                     0                         0  \n",
       "5                                     1                         0  \n",
       "6                                     0                         0  \n",
       "\n",
       "[5 rows x 381 columns]"
      ]
     },
     "execution_count": 63,
     "metadata": {},
     "output_type": "execute_result"
    }
   ],
   "source": [
    "df3=pd.get_dummies(df2,drop_first=True)\n",
    "df3.head()"
   ]
  },
  {
   "cell_type": "markdown",
   "metadata": {},
   "source": [
    "## <a id=\"3\">3. Explanatory Data Analysis </a>"
   ]
  },
  {
   "cell_type": "code",
   "execution_count": 64,
   "metadata": {},
   "outputs": [
    {
     "name": "stdout",
     "output_type": "stream",
     "text": [
      "Brand\n",
      "Suzuki      9675\n",
      "Toyota      4348\n",
      "Honda       3058\n",
      "Daihatsu    2457\n",
      "Nissan       735\n",
      "Name: Brand, dtype: int64\n"
     ]
    },
    {
     "data": {
      "image/png": "[encoded data removed]",
      "text/plain": [
       "<Figure size 360x216 with 1 Axes>"
      ]
     },
     "metadata": {
      "needs_background": "light"
     },
     "output_type": "display_data"
    },
    {
     "name": "stdout",
     "output_type": "stream",
     "text": [
      "Fuel\n",
      "Petrol     13666\n",
      "CNG         6786\n",
      "Hybrid       754\n",
      "Diesel       322\n",
      "unknown      159\n",
      "Name: Fuel, dtype: int64\n"
     ]
    },
    {
     "data": {
      "image/png": "[encoded data removed]",
      "text/plain": [
       "<Figure size 360x216 with 1 Axes>"
      ]
     },
     "metadata": {
      "needs_background": "light"
     },
     "output_type": "display_data"
    },
    {
     "name": "stdout",
     "output_type": "stream",
     "text": [
      "Model\n",
      "Cultus VXR     1773\n",
      "Alto           1658\n",
      "Mehran VX      1024\n",
      "Corolla GLI     968\n",
      "Other           879\n",
      "Name: Model, dtype: int64\n"
     ]
    },
    {
     "data": {
      "image/png": "[encoded data removed]",
      "text/plain": [
       "<Figure size 360x216 with 1 Axes>"
      ]
     },
     "metadata": {
      "needs_background": "light"
     },
     "output_type": "display_data"
    },
    {
     "name": "stdout",
     "output_type": "stream",
     "text": [
      "Registered City\n",
      "Karachi       16045\n",
      "unknown        2091\n",
      "Lahore         1931\n",
      "Islamabad       897\n",
      "Rawalpindi      159\n",
      "Name: Registered City, dtype: int64\n"
     ]
    },
    {
     "data": {
      "image/png": "[encoded data removed]",
      "text/plain": [
       "<Figure size 360x216 with 1 Axes>"
      ]
     },
     "metadata": {
      "needs_background": "light"
     },
     "output_type": "display_data"
    }
   ],
   "source": [
    "categories = ['Brand','Fuel', 'Model',\n",
    "       'Registered City']\n",
    "\n",
    "for i, c in enumerate(categories):\n",
    "    v = df2[c].unique()\n",
    "    \n",
    "    g = df2.groupby(by=c)[c].count().sort_values(ascending=False)\n",
    "    r = range(min(len(v), 5))\n",
    "\n",
    "    print( g.head())\n",
    "    plt.figure(figsize=(5,3))\n",
    "    plt.bar(r, g.head()) \n",
    "    #plt.xticks(r, v)\n",
    "    plt.xticks(r, g.index)\n",
    "    plt.show()"
   ]
  },
  {
   "cell_type": "code",
   "execution_count": null,
   "metadata": {},
   "outputs": [],
   "source": []
  },
  {
   "cell_type": "markdown",
   "metadata": {},
   "source": [
    "## <a id=\"4\"> 4.  Divide the data into training, cross-validation and testing data </a>"
   ]
  },
  {
   "cell_type": "code",
   "execution_count": 65,
   "metadata": {},
   "outputs": [],
   "source": [
    "df_y = df3['Price'].values\n",
    "df_X = df3.drop(['Price'], axis=1)\n"
   ]
  },
  {
   "cell_type": "code",
   "execution_count": 66,
   "metadata": {},
   "outputs": [],
   "source": [
    "test_size = 0.30\n",
    "\n",
    "#Split into train and validation\n",
    "X_train, X_val, Y_train, Y_val = train_test_split(df_X,df_y, test_size=test_size,shuffle=True, random_state = 3)\n"
   ]
  },
  {
   "cell_type": "markdown",
   "metadata": {},
   "source": [
    "## <a id=\"5\"> 5. Model</a>"
   ]
  },
  {
   "cell_type": "markdown",
   "metadata": {},
   "source": [
    "## Random forests"
   ]
  },
  {
   "cell_type": "code",
   "execution_count": 67,
   "metadata": {},
   "outputs": [
    {
     "name": "stdout",
     "output_type": "stream",
     "text": [
      "Fitting 2 folds for each of 1 candidates, totalling 2 fits\n"
     ]
    },
    {
     "name": "stderr",
     "output_type": "stream",
     "text": [
      "[Parallel(n_jobs=-1)]: Done   2 out of   2 | elapsed:   26.4s finished\n"
     ]
    }
   ],
   "source": [
    "from sklearn.ensemble import RandomForestRegressor\n",
    "from sklearn.model_selection import GridSearchCV\n",
    "\n",
    "rf = RandomForestRegressor()\n",
    "\n",
    "param_grid = { \"criterion\" : [\"mse\"]\n",
    "              , \"min_samples_leaf\" : [3]\n",
    "              , \"min_samples_split\" : [3]\n",
    "              , \"max_depth\": [10]\n",
    "              , \"n_estimators\": [500]}\n",
    "\n",
    "gs = GridSearchCV(estimator=rf, param_grid=param_grid, cv=2, n_jobs=-1, verbose=1)\n",
    "gs = gs.fit(X_train, Y_train)"
   ]
  },
  {
   "cell_type": "code",
   "execution_count": 68,
   "metadata": {},
   "outputs": [
    {
     "name": "stdout",
     "output_type": "stream",
     "text": [
      "0.8461166586483374\n",
      "{'criterion': 'mse', 'max_depth': 10, 'min_samples_leaf': 3, 'min_samples_split': 3, 'n_estimators': 500}\n"
     ]
    }
   ],
   "source": [
    "print(gs.best_score_)\n",
    "print(gs.best_params_)\n",
    " "
   ]
  },
  {
   "cell_type": "code",
   "execution_count": 72,
   "metadata": {},
   "outputs": [
    {
     "name": "stdout",
     "output_type": "stream",
     "text": [
      "Test R^2 Score:\n",
      "Score: 0.86\n"
     ]
    }
   ],
   "source": [
    "bp = gs.best_params_\n",
    "forest = RandomForestRegressor(criterion=bp['criterion'],\n",
    "                              min_samples_leaf=bp['min_samples_leaf'],\n",
    "                              min_samples_split=bp['min_samples_split'],\n",
    "                              max_depth=bp['max_depth'],\n",
    "                              n_estimators=bp['n_estimators'])\n",
    "forest.fit(X_train, Y_train)\n",
    "# Explained variance score: 1 is perfect prediction\n",
    "print(\"Test R^2 Score:\")\n",
    "print('Score: %.2f' % forest.score(X_val, Y_val))"
   ]
  },
  {
   "cell_type": "code",
   "execution_count": 73,
   "metadata": {},
   "outputs": [
    {
     "name": "stdout",
     "output_type": "stream",
     "text": [
      "Train R^2 Score:\n",
      "Score: 0.89\n"
     ]
    }
   ],
   "source": [
    "print(\"Train R^2 Score:\")\n",
    "print('Score: %.2f' % forest.score(X_train, Y_train))"
   ]
  },
  {
   "cell_type": "code",
   "execution_count": 79,
   "metadata": {},
   "outputs": [],
   "source": [
    "# from sklearn.metrics import r2_score\n",
    "# y_pred=forest.predict(X_val)\n",
    "# print('Test R^2\\nScore: %.2f' % r2_score(Y_val,y_pred))\n"
   ]
  },
  {
   "cell_type": "markdown",
   "metadata": {},
   "source": [
    "### R-squared evaluates the scatter of the data points around the fitted regression line."
   ]
  }
 ],
 "metadata": {
  "kernelspec": {
   "display_name": "Python 3",
   "language": "python",
   "name": "python3"
  },
  "language_info": {
   "codemirror_mode": {
    "name": "ipython",
    "version": 3
   },
   "file_extension": ".py",
   "mimetype": "text/x-python",
   "name": "python",
   "nbconvert_exporter": "python",
   "pygments_lexer": "ipython3",
   "version": "3.7.0"
  }
 },
 "nbformat": 4,
 "nbformat_minor": 2
}
