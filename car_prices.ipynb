{
 "cells": [
  {
   "cell_type": "markdown",
   "metadata": {},
   "source": [
    "(Click on the below links to navigate to different sections of the notebook)\n",
    "# **Overview**  \n",
    "- <a href=\"#1\">1. Importing Data</a>"
   ]
  },
  {
   "cell_type": "code",
   "execution_count": 26,
   "metadata": {},
   "outputs": [],
   "source": [
    "import numpy as np # linear algebra\n",
    "import pandas as pd # data processing\n",
    "from sklearn.model_selection import train_test_split # for splitting the dataset in train,test and validation\n",
    "from sklearn.linear_model import LinearRegression # for linear regression\n",
    "\n",
    "\n",
    "from sklearn.metrics import mean_squared_error # for calcualting mse\n",
    "\n",
    "import matplotlib.pyplot as plt #for plotting\n",
    "\n",
    "\n",
    "# Suppress warnings \n",
    "import warnings\n",
    "warnings.filterwarnings('ignore')"
   ]
  },
  {
   "cell_type": "markdown",
   "metadata": {},
   "source": [
    "## <a id=\"1\"> 1. Importing Data </a>"
   ]
  },
  {
   "cell_type": "code",
   "execution_count": 71,
   "metadata": {},
   "outputs": [
    {
     "name": "stdout",
     "output_type": "stream",
     "text": [
      "There are 24973 rows and 9 columns\n"
     ]
    }
   ],
   "source": [
    "df1 = pd.read_csv('OLX_Car_Data_CSV.csv',encoding= 'latin1')\n",
    "df2 = df1.sample(frac=1).reset_index(drop=True)# shuffle\n",
    "nRow, nCol = df1.shape\n",
    "print(f'There are {nRow} rows and {nCol} columns')"
   ]
  },
  {
   "cell_type": "code",
   "execution_count": 72,
   "metadata": {},
   "outputs": [
    {
     "data": {
      "text/html": [
       "<div>\n",
       "<style scoped>\n",
       "    .dataframe tbody tr th:only-of-type {\n",
       "        vertical-align: middle;\n",
       "    }\n",
       "\n",
       "    .dataframe tbody tr th {\n",
       "        vertical-align: top;\n",
       "    }\n",
       "\n",
       "    .dataframe thead th {\n",
       "        text-align: right;\n",
       "    }\n",
       "</style>\n",
       "<table border=\"1\" class=\"dataframe\">\n",
       "  <thead>\n",
       "    <tr style=\"text-align: right;\">\n",
       "      <th></th>\n",
       "      <th>Brand</th>\n",
       "      <th>Condition</th>\n",
       "      <th>Fuel</th>\n",
       "      <th>KMs Driven</th>\n",
       "      <th>Model</th>\n",
       "      <th>Price</th>\n",
       "      <th>Registered City</th>\n",
       "      <th>Transaction Type</th>\n",
       "      <th>Year</th>\n",
       "    </tr>\n",
       "  </thead>\n",
       "  <tbody>\n",
       "    <tr>\n",
       "      <th>0</th>\n",
       "      <td>NaN</td>\n",
       "      <td>NaN</td>\n",
       "      <td>NaN</td>\n",
       "      <td>NaN</td>\n",
       "      <td>NaN</td>\n",
       "      <td>1280000</td>\n",
       "      <td>NaN</td>\n",
       "      <td>NaN</td>\n",
       "      <td>NaN</td>\n",
       "    </tr>\n",
       "    <tr>\n",
       "      <th>1</th>\n",
       "      <td>Toyota</td>\n",
       "      <td>New</td>\n",
       "      <td>Petrol</td>\n",
       "      <td>58699.0</td>\n",
       "      <td>Corolla XLI</td>\n",
       "      <td>1290000</td>\n",
       "      <td>Karachi</td>\n",
       "      <td>Cash</td>\n",
       "      <td>2011.0</td>\n",
       "    </tr>\n",
       "    <tr>\n",
       "      <th>2</th>\n",
       "      <td>Toyota</td>\n",
       "      <td>New</td>\n",
       "      <td>Petrol</td>\n",
       "      <td>13000.0</td>\n",
       "      <td>Corolla GLI</td>\n",
       "      <td>2320000</td>\n",
       "      <td>NaN</td>\n",
       "      <td>Cash</td>\n",
       "      <td>2017.0</td>\n",
       "    </tr>\n",
       "    <tr>\n",
       "      <th>3</th>\n",
       "      <td>Daihatsu</td>\n",
       "      <td>Used</td>\n",
       "      <td>CNG</td>\n",
       "      <td>100000.0</td>\n",
       "      <td>Charade</td>\n",
       "      <td>140000</td>\n",
       "      <td>Karachi</td>\n",
       "      <td>Cash</td>\n",
       "      <td>1983.0</td>\n",
       "    </tr>\n",
       "    <tr>\n",
       "      <th>4</th>\n",
       "      <td>Suzuki</td>\n",
       "      <td>New</td>\n",
       "      <td>CNG</td>\n",
       "      <td>78000.0</td>\n",
       "      <td>Cultus VXR</td>\n",
       "      <td>500000</td>\n",
       "      <td>Karachi</td>\n",
       "      <td>Cash</td>\n",
       "      <td>2007.0</td>\n",
       "    </tr>\n",
       "  </tbody>\n",
       "</table>\n",
       "</div>"
      ],
      "text/plain": [
       "      Brand Condition    Fuel  KMs Driven        Model    Price  \\\n",
       "0       NaN       NaN     NaN         NaN          NaN  1280000   \n",
       "1    Toyota       New  Petrol     58699.0  Corolla XLI  1290000   \n",
       "2    Toyota       New  Petrol     13000.0  Corolla GLI  2320000   \n",
       "3  Daihatsu      Used     CNG    100000.0      Charade   140000   \n",
       "4    Suzuki       New     CNG     78000.0   Cultus VXR   500000   \n",
       "\n",
       "  Registered City Transaction Type    Year  \n",
       "0             NaN              NaN     NaN  \n",
       "1         Karachi             Cash  2011.0  \n",
       "2             NaN             Cash  2017.0  \n",
       "3         Karachi             Cash  1983.0  \n",
       "4         Karachi             Cash  2007.0  "
      ]
     },
     "metadata": {},
     "output_type": "display_data"
    },
    {
     "data": {
      "text/plain": [
       "Index(['Brand', 'Condition', 'Fuel', 'KMs Driven', 'Model', 'Price',\n",
       "       'Registered City', 'Transaction Type', 'Year'],\n",
       "      dtype='object')"
      ]
     },
     "execution_count": 72,
     "metadata": {},
     "output_type": "execute_result"
    }
   ],
   "source": [
    "display(df2.head(5))\n",
    "df2.columns"
   ]
  },
  {
   "cell_type": "markdown",
   "metadata": {},
   "source": [
    "## <a id=\"2\" > 2. Preprocessing the Dataset</a>"
   ]
  },
  {
   "cell_type": "markdown",
   "metadata": {},
   "source": [
    "### <a id=\"2-1\" > 2.1 Check for NULLS</a>"
   ]
  },
  {
   "cell_type": "code",
   "execution_count": 73,
   "metadata": {},
   "outputs": [
    {
     "data": {
      "text/plain": [
       "Brand               2137\n",
       "Condition           2136\n",
       "Fuel                2445\n",
       "KMs Driven          2286\n",
       "Model               2448\n",
       "Price                  0\n",
       "Registered City     4636\n",
       "Transaction Type    2445\n",
       "Year                2284\n",
       "dtype: int64"
      ]
     },
     "execution_count": 73,
     "metadata": {},
     "output_type": "execute_result"
    }
   ],
   "source": [
    "df2.isnull().sum(axis = 0)"
   ]
  },
  {
   "cell_type": "code",
   "execution_count": 74,
   "metadata": {},
   "outputs": [],
   "source": [
    "df2['Brand'].fillna(value='unknown', inplace=True)\n",
    "df2['Condition'].fillna(value='unknown', inplace=True)\n",
    "df2['Fuel'].fillna(value='unknown', inplace=True)\n",
    "df2['Model'].fillna(value='unknown', inplace=True)\n",
    "df2['Registered City'].fillna(value='unknown', inplace=True)\n",
    "df2['Transaction Type'].fillna(value='unknown', inplace=True)"
   ]
  },
  {
   "cell_type": "markdown",
   "metadata": {},
   "source": [
    "### <a id=\"2-2\" > 2.2 Check the datatype of columns</a>"
   ]
  },
  {
   "cell_type": "code",
   "execution_count": 75,
   "metadata": {},
   "outputs": [
    {
     "data": {
      "text/plain": [
       "Brand                object\n",
       "Condition            object\n",
       "Fuel                 object\n",
       "KMs Driven          float64\n",
       "Model                object\n",
       "Price                 int64\n",
       "Registered City      object\n",
       "Transaction Type     object\n",
       "Year                float64\n",
       "dtype: object"
      ]
     },
     "execution_count": 75,
     "metadata": {},
     "output_type": "execute_result"
    }
   ],
   "source": [
    "df2.dtypes"
   ]
  },
  {
   "cell_type": "code",
   "execution_count": 76,
   "metadata": {},
   "outputs": [
    {
     "data": {
      "text/html": [
       "<div>\n",
       "<style scoped>\n",
       "    .dataframe tbody tr th:only-of-type {\n",
       "        vertical-align: middle;\n",
       "    }\n",
       "\n",
       "    .dataframe tbody tr th {\n",
       "        vertical-align: top;\n",
       "    }\n",
       "\n",
       "    .dataframe thead th {\n",
       "        text-align: right;\n",
       "    }\n",
       "</style>\n",
       "<table border=\"1\" class=\"dataframe\">\n",
       "  <thead>\n",
       "    <tr style=\"text-align: right;\">\n",
       "      <th></th>\n",
       "      <th>KMs Driven</th>\n",
       "      <th>Price</th>\n",
       "      <th>Year</th>\n",
       "    </tr>\n",
       "  </thead>\n",
       "  <tbody>\n",
       "    <tr>\n",
       "      <th>count</th>\n",
       "      <td>2.268700e+04</td>\n",
       "      <td>2.497300e+04</td>\n",
       "      <td>22689.000000</td>\n",
       "    </tr>\n",
       "    <tr>\n",
       "      <th>mean</th>\n",
       "      <td>1.278112e+05</td>\n",
       "      <td>9.128953e+05</td>\n",
       "      <td>2005.901626</td>\n",
       "    </tr>\n",
       "    <tr>\n",
       "      <th>std</th>\n",
       "      <td>5.996726e+05</td>\n",
       "      <td>1.537134e+06</td>\n",
       "      <td>9.563804</td>\n",
       "    </tr>\n",
       "    <tr>\n",
       "      <th>min</th>\n",
       "      <td>1.000000e+00</td>\n",
       "      <td>5.000000e+04</td>\n",
       "      <td>1915.000000</td>\n",
       "    </tr>\n",
       "    <tr>\n",
       "      <th>25%</th>\n",
       "      <td>1.600000e+04</td>\n",
       "      <td>3.800000e+05</td>\n",
       "      <td>2002.000000</td>\n",
       "    </tr>\n",
       "    <tr>\n",
       "      <th>50%</th>\n",
       "      <td>6.651000e+04</td>\n",
       "      <td>6.500000e+05</td>\n",
       "      <td>2008.000000</td>\n",
       "    </tr>\n",
       "    <tr>\n",
       "      <th>75%</th>\n",
       "      <td>1.000000e+05</td>\n",
       "      <td>1.145000e+06</td>\n",
       "      <td>2013.000000</td>\n",
       "    </tr>\n",
       "    <tr>\n",
       "      <th>max</th>\n",
       "      <td>1.000000e+07</td>\n",
       "      <td>8.765432e+07</td>\n",
       "      <td>2020.000000</td>\n",
       "    </tr>\n",
       "  </tbody>\n",
       "</table>\n",
       "</div>"
      ],
      "text/plain": [
       "         KMs Driven         Price          Year\n",
       "count  2.268700e+04  2.497300e+04  22689.000000\n",
       "mean   1.278112e+05  9.128953e+05   2005.901626\n",
       "std    5.996726e+05  1.537134e+06      9.563804\n",
       "min    1.000000e+00  5.000000e+04   1915.000000\n",
       "25%    1.600000e+04  3.800000e+05   2002.000000\n",
       "50%    6.651000e+04  6.500000e+05   2008.000000\n",
       "75%    1.000000e+05  1.145000e+06   2013.000000\n",
       "max    1.000000e+07  8.765432e+07   2020.000000"
      ]
     },
     "execution_count": 76,
     "metadata": {},
     "output_type": "execute_result"
    }
   ],
   "source": [
    "df2.describe()"
   ]
  },
  {
   "cell_type": "code",
   "execution_count": null,
   "metadata": {},
   "outputs": [],
   "source": []
  },
  {
   "cell_type": "code",
   "execution_count": null,
   "metadata": {},
   "outputs": [],
   "source": []
  },
  {
   "cell_type": "code",
   "execution_count": 77,
   "metadata": {},
   "outputs": [
    {
     "data": {
      "text/plain": [
       "Brand               0\n",
       "Condition           0\n",
       "Fuel                0\n",
       "KMs Driven          0\n",
       "Model               0\n",
       "Price               0\n",
       "Registered City     0\n",
       "Transaction Type    0\n",
       "Year                0\n",
       "dtype: int64"
      ]
     },
     "execution_count": 77,
     "metadata": {},
     "output_type": "execute_result"
    }
   ],
   "source": [
    "df3=df2.dropna() #drop rows with atleast a column with missing values\n",
    "df3.isnull().sum(axis = 0)"
   ]
  },
  {
   "cell_type": "code",
   "execution_count": 78,
   "metadata": {},
   "outputs": [
    {
     "data": {
      "text/plain": [
       "(22687, 9)"
      ]
     },
     "execution_count": 78,
     "metadata": {},
     "output_type": "execute_result"
    }
   ],
   "source": [
    "df3.shape"
   ]
  },
  {
   "cell_type": "markdown",
   "metadata": {},
   "source": [
    "### <a id=\"2-3\" > 2.3 Encoding the categorical data (one hot Encoding)</a>"
   ]
  },
  {
   "cell_type": "code",
   "execution_count": 79,
   "metadata": {},
   "outputs": [
    {
     "data": {
      "text/html": [
       "<div>\n",
       "<style scoped>\n",
       "    .dataframe tbody tr th:only-of-type {\n",
       "        vertical-align: middle;\n",
       "    }\n",
       "\n",
       "    .dataframe tbody tr th {\n",
       "        vertical-align: top;\n",
       "    }\n",
       "\n",
       "    .dataframe thead th {\n",
       "        text-align: right;\n",
       "    }\n",
       "</style>\n",
       "<table border=\"1\" class=\"dataframe\">\n",
       "  <thead>\n",
       "    <tr style=\"text-align: right;\">\n",
       "      <th></th>\n",
       "      <th>KMs Driven</th>\n",
       "      <th>Price</th>\n",
       "      <th>Year</th>\n",
       "      <th>Brand_BMW</th>\n",
       "      <th>Brand_Changan</th>\n",
       "      <th>Brand_Chevrolet</th>\n",
       "      <th>Brand_Classic &amp; Antiques</th>\n",
       "      <th>Brand_Daewoo</th>\n",
       "      <th>Brand_Daihatsu</th>\n",
       "      <th>Brand_FAW</th>\n",
       "      <th>...</th>\n",
       "      <th>Registered City_Sukkar</th>\n",
       "      <th>Registered City_Sukkur</th>\n",
       "      <th>Registered City_Swabi</th>\n",
       "      <th>Registered City_Swat</th>\n",
       "      <th>Registered City_Tank</th>\n",
       "      <th>Registered City_Vehari</th>\n",
       "      <th>Registered City_Wah</th>\n",
       "      <th>Registered City_unknown</th>\n",
       "      <th>Transaction Type_Installment/Leasing</th>\n",
       "      <th>Transaction Type_unknown</th>\n",
       "    </tr>\n",
       "  </thead>\n",
       "  <tbody>\n",
       "    <tr>\n",
       "      <th>1</th>\n",
       "      <td>58699.0</td>\n",
       "      <td>1290000</td>\n",
       "      <td>2011.0</td>\n",
       "      <td>0</td>\n",
       "      <td>0</td>\n",
       "      <td>0</td>\n",
       "      <td>0</td>\n",
       "      <td>0</td>\n",
       "      <td>0</td>\n",
       "      <td>0</td>\n",
       "      <td>...</td>\n",
       "      <td>0</td>\n",
       "      <td>0</td>\n",
       "      <td>0</td>\n",
       "      <td>0</td>\n",
       "      <td>0</td>\n",
       "      <td>0</td>\n",
       "      <td>0</td>\n",
       "      <td>0</td>\n",
       "      <td>0</td>\n",
       "      <td>0</td>\n",
       "    </tr>\n",
       "    <tr>\n",
       "      <th>2</th>\n",
       "      <td>13000.0</td>\n",
       "      <td>2320000</td>\n",
       "      <td>2017.0</td>\n",
       "      <td>0</td>\n",
       "      <td>0</td>\n",
       "      <td>0</td>\n",
       "      <td>0</td>\n",
       "      <td>0</td>\n",
       "      <td>0</td>\n",
       "      <td>0</td>\n",
       "      <td>...</td>\n",
       "      <td>0</td>\n",
       "      <td>0</td>\n",
       "      <td>0</td>\n",
       "      <td>0</td>\n",
       "      <td>0</td>\n",
       "      <td>0</td>\n",
       "      <td>0</td>\n",
       "      <td>1</td>\n",
       "      <td>0</td>\n",
       "      <td>0</td>\n",
       "    </tr>\n",
       "    <tr>\n",
       "      <th>3</th>\n",
       "      <td>100000.0</td>\n",
       "      <td>140000</td>\n",
       "      <td>1983.0</td>\n",
       "      <td>0</td>\n",
       "      <td>0</td>\n",
       "      <td>0</td>\n",
       "      <td>0</td>\n",
       "      <td>0</td>\n",
       "      <td>1</td>\n",
       "      <td>0</td>\n",
       "      <td>...</td>\n",
       "      <td>0</td>\n",
       "      <td>0</td>\n",
       "      <td>0</td>\n",
       "      <td>0</td>\n",
       "      <td>0</td>\n",
       "      <td>0</td>\n",
       "      <td>0</td>\n",
       "      <td>0</td>\n",
       "      <td>0</td>\n",
       "      <td>0</td>\n",
       "    </tr>\n",
       "    <tr>\n",
       "      <th>4</th>\n",
       "      <td>78000.0</td>\n",
       "      <td>500000</td>\n",
       "      <td>2007.0</td>\n",
       "      <td>0</td>\n",
       "      <td>0</td>\n",
       "      <td>0</td>\n",
       "      <td>0</td>\n",
       "      <td>0</td>\n",
       "      <td>0</td>\n",
       "      <td>0</td>\n",
       "      <td>...</td>\n",
       "      <td>0</td>\n",
       "      <td>0</td>\n",
       "      <td>0</td>\n",
       "      <td>0</td>\n",
       "      <td>0</td>\n",
       "      <td>0</td>\n",
       "      <td>0</td>\n",
       "      <td>0</td>\n",
       "      <td>0</td>\n",
       "      <td>0</td>\n",
       "    </tr>\n",
       "    <tr>\n",
       "      <th>5</th>\n",
       "      <td>161200.0</td>\n",
       "      <td>1150000</td>\n",
       "      <td>2009.0</td>\n",
       "      <td>0</td>\n",
       "      <td>0</td>\n",
       "      <td>0</td>\n",
       "      <td>0</td>\n",
       "      <td>0</td>\n",
       "      <td>0</td>\n",
       "      <td>0</td>\n",
       "      <td>...</td>\n",
       "      <td>0</td>\n",
       "      <td>0</td>\n",
       "      <td>0</td>\n",
       "      <td>0</td>\n",
       "      <td>0</td>\n",
       "      <td>0</td>\n",
       "      <td>0</td>\n",
       "      <td>0</td>\n",
       "      <td>0</td>\n",
       "      <td>0</td>\n",
       "    </tr>\n",
       "  </tbody>\n",
       "</table>\n",
       "<p>5 rows × 398 columns</p>\n",
       "</div>"
      ],
      "text/plain": [
       "   KMs Driven    Price    Year  Brand_BMW  Brand_Changan  Brand_Chevrolet  \\\n",
       "1     58699.0  1290000  2011.0          0              0                0   \n",
       "2     13000.0  2320000  2017.0          0              0                0   \n",
       "3    100000.0   140000  1983.0          0              0                0   \n",
       "4     78000.0   500000  2007.0          0              0                0   \n",
       "5    161200.0  1150000  2009.0          0              0                0   \n",
       "\n",
       "   Brand_Classic & Antiques  Brand_Daewoo  Brand_Daihatsu  Brand_FAW  \\\n",
       "1                         0             0               0          0   \n",
       "2                         0             0               0          0   \n",
       "3                         0             0               1          0   \n",
       "4                         0             0               0          0   \n",
       "5                         0             0               0          0   \n",
       "\n",
       "             ...             Registered City_Sukkar  Registered City_Sukkur  \\\n",
       "1            ...                                  0                       0   \n",
       "2            ...                                  0                       0   \n",
       "3            ...                                  0                       0   \n",
       "4            ...                                  0                       0   \n",
       "5            ...                                  0                       0   \n",
       "\n",
       "   Registered City_Swabi  Registered City_Swat  Registered City_Tank  \\\n",
       "1                      0                     0                     0   \n",
       "2                      0                     0                     0   \n",
       "3                      0                     0                     0   \n",
       "4                      0                     0                     0   \n",
       "5                      0                     0                     0   \n",
       "\n",
       "   Registered City_Vehari  Registered City_Wah  Registered City_unknown  \\\n",
       "1                       0                    0                        0   \n",
       "2                       0                    0                        1   \n",
       "3                       0                    0                        0   \n",
       "4                       0                    0                        0   \n",
       "5                       0                    0                        0   \n",
       "\n",
       "   Transaction Type_Installment/Leasing  Transaction Type_unknown  \n",
       "1                                     0                         0  \n",
       "2                                     0                         0  \n",
       "3                                     0                         0  \n",
       "4                                     0                         0  \n",
       "5                                     0                         0  \n",
       "\n",
       "[5 rows x 398 columns]"
      ]
     },
     "execution_count": 79,
     "metadata": {},
     "output_type": "execute_result"
    }
   ],
   "source": [
    "df3=pd.get_dummies(df3,drop_first=True)\n",
    "df3.head()"
   ]
  },
  {
   "cell_type": "code",
   "execution_count": null,
   "metadata": {},
   "outputs": [],
   "source": []
  },
  {
   "cell_type": "markdown",
   "metadata": {},
   "source": [
    "## <a id=\"3\">3. Explanatory Data Analysis </a>"
   ]
  },
  {
   "cell_type": "code",
   "execution_count": 80,
   "metadata": {},
   "outputs": [
    {
     "name": "stdout",
     "output_type": "stream",
     "text": [
      "Brand\n",
      "Suzuki      9773\n",
      "Toyota      4981\n",
      "Honda       3324\n",
      "Daihatsu    2476\n",
      "unknown     2137\n",
      "Name: Brand, dtype: int64\n"
     ]
    },
    {
     "data": {
      "image/png": "[encoded data removed]",
      "text/plain": [
       "<Figure size 360x216 with 1 Axes>"
      ]
     },
     "metadata": {
      "needs_background": "light"
     },
     "output_type": "display_data"
    },
    {
     "name": "stdout",
     "output_type": "stream",
     "text": [
      "Fuel\n",
      "Petrol     14309\n",
      "CNG         6797\n",
      "unknown     2445\n",
      "Hybrid       943\n",
      "Diesel       450\n",
      "Name: Fuel, dtype: int64\n"
     ]
    },
    {
     "data": {
      "image/png": "[encoded data removed]",
      "text/plain": [
       "<Figure size 360x216 with 1 Axes>"
      ]
     },
     "metadata": {
      "needs_background": "light"
     },
     "output_type": "display_data"
    },
    {
     "name": "stdout",
     "output_type": "stream",
     "text": [
      "Model\n",
      "unknown        2448\n",
      "Cultus VXR     1775\n",
      "Alto           1658\n",
      "Corolla GLI    1043\n",
      "Mehran VX      1025\n",
      "Name: Model, dtype: int64\n"
     ]
    },
    {
     "data": {
      "image/png": "[encoded data removed]",
      "text/plain": [
       "<Figure size 360x216 with 1 Axes>"
      ]
     },
     "metadata": {
      "needs_background": "light"
     },
     "output_type": "display_data"
    },
    {
     "name": "stdout",
     "output_type": "stream",
     "text": [
      "Registered City\n",
      "Karachi       16599\n",
      "unknown        4636\n",
      "Lahore         1986\n",
      "Islamabad       986\n",
      "Rawalpindi      163\n",
      "Name: Registered City, dtype: int64\n"
     ]
    },
    {
     "data": {
      "image/png": "[encoded data removed]",
      "text/plain": [
       "<Figure size 360x216 with 1 Axes>"
      ]
     },
     "metadata": {
      "needs_background": "light"
     },
     "output_type": "display_data"
    }
   ],
   "source": [
    "categories = ['Brand','Fuel', 'Model',\n",
    "       'Registered City']\n",
    "\n",
    "for i, c in enumerate(categories):\n",
    "    v = df2[c].unique()\n",
    "    \n",
    "    g = df2.groupby(by=c)[c].count().sort_values(ascending=False)\n",
    "    r = range(min(len(v), 5))\n",
    "\n",
    "    print( g.head())\n",
    "    plt.figure(figsize=(5,3))\n",
    "    plt.bar(r, g.head()) \n",
    "    #plt.xticks(r, v)\n",
    "    plt.xticks(r, g.index)\n",
    "    plt.show()"
   ]
  },
  {
   "cell_type": "markdown",
   "metadata": {},
   "source": [
    "## <a id=\"4\"> 4.  Divide the data into training, cross-validation and testing data </a>"
   ]
  },
  {
   "cell_type": "code",
   "execution_count": 81,
   "metadata": {},
   "outputs": [],
   "source": [
    "df_y = df3['Price'].values\n",
    "df_X = df3.drop(['Price'], axis=1)\n"
   ]
  },
  {
   "cell_type": "code",
   "execution_count": 82,
   "metadata": {},
   "outputs": [],
   "source": [
    "test_size = 0.30\n",
    "\n",
    "#Split into train and validation\n",
    "X_train, X_val, Y_train, Y_val = train_test_split(df_X,df_y, test_size=test_size,shuffle=True, random_state = 3)\n"
   ]
  },
  {
   "cell_type": "markdown",
   "metadata": {},
   "source": [
    "## <a id=\"5\"> 5. Model</a>"
   ]
  },
  {
   "cell_type": "code",
   "execution_count": 83,
   "metadata": {},
   "outputs": [
    {
     "name": "stdout",
     "output_type": "stream",
     "text": [
      "Fitting 2 folds for each of 1 candidates, totalling 2 fits\n"
     ]
    },
    {
     "name": "stderr",
     "output_type": "stream",
     "text": [
      "[Parallel(n_jobs=-1)]: Done   2 out of   2 | elapsed:   29.3s finished\n"
     ]
    }
   ],
   "source": [
    "from sklearn.ensemble import RandomForestRegressor\n",
    "from sklearn.model_selection import GridSearchCV\n",
    "\n",
    "rf = RandomForestRegressor()\n",
    "\n",
    "param_grid = { \"criterion\" : [\"mse\"]\n",
    "              , \"min_samples_leaf\" : [3]\n",
    "              , \"min_samples_split\" : [3]\n",
    "              , \"max_depth\": [10]\n",
    "              , \"n_estimators\": [500]}\n",
    "\n",
    "gs = GridSearchCV(estimator=rf, param_grid=param_grid, cv=2, n_jobs=-1, verbose=1)\n",
    "gs = gs.fit(X_train, Y_train)"
   ]
  },
  {
   "cell_type": "code",
   "execution_count": 84,
   "metadata": {},
   "outputs": [
    {
     "name": "stdout",
     "output_type": "stream",
     "text": [
      "0.223930419027585\n",
      "{'criterion': 'mse', 'max_depth': 10, 'min_samples_leaf': 3, 'min_samples_split': 3, 'n_estimators': 500}\n"
     ]
    }
   ],
   "source": [
    "print(gs.best_score_)\n",
    "print(gs.best_params_)\n",
    " "
   ]
  },
  {
   "cell_type": "code",
   "execution_count": 85,
   "metadata": {},
   "outputs": [
    {
     "name": "stdout",
     "output_type": "stream",
     "text": [
      "Score: 0.42\n"
     ]
    }
   ],
   "source": [
    "bp = gs.best_params_\n",
    "forest = RandomForestRegressor(criterion=bp['criterion'],\n",
    "                              min_samples_leaf=bp['min_samples_leaf'],\n",
    "                              min_samples_split=bp['min_samples_split'],\n",
    "                              max_depth=bp['max_depth'],\n",
    "                              n_estimators=bp['n_estimators'])\n",
    "forest.fit(X_train, Y_train)\n",
    "# Explained variance score: 1 is perfect prediction\n",
    "print('Score: %.2f' % forest.score(X_val, Y_val))"
   ]
  },
  {
   "cell_type": "code",
   "execution_count": null,
   "metadata": {},
   "outputs": [],
   "source": []
  }
 ],
 "metadata": {
  "kernelspec": {
   "display_name": "Python 3",
   "language": "python",
   "name": "python3"
  },
  "language_info": {
   "codemirror_mode": {
    "name": "ipython",
    "version": 3
   },
   "file_extension": ".py",
   "mimetype": "text/x-python",
   "name": "python",
   "nbconvert_exporter": "python",
   "pygments_lexer": "ipython3",
   "version": "3.6.6"
  }
 },
 "nbformat": 4,
 "nbformat_minor": 2
}
